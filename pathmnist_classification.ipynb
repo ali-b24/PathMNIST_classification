{
 "cells": [
  {
   "cell_type": "code",
   "execution_count": 110,
   "id": "cd594e20",
   "metadata": {},
   "outputs": [],
   "source": [
    "import medmnist\n",
    "from medmnist import INFO, Evaluator\n",
    "import torch\n",
    "import torchvision\n",
    "from torchvision import transforms\n",
    "import matplotlib.pyplot as plt\n",
    "from torch.utils.data import DataLoader\n",
    "import torch.nn as nn\n",
    "from torch import utils\n",
    "from torch import optim\n",
    "from torch import device\n",
    "from torch import inference_mode\n",
    "import tqdm\n",
    "from timeit import default_timer as timer\n",
    "from tqdm.auto import tqdm\n",
    "from torchmetrics import ConfusionMatrix\n",
    "import mlxtend\n",
    "from mlxtend.plotting import plot_confusion_matrix\n",
    "import numpy"
   ]
  },
  {
   "cell_type": "code",
   "execution_count": 111,
   "id": "dd0ab10b",
   "metadata": {
    "execution": {
     "iopub.execute_input": "2023-07-31T11:09:52.609415Z",
     "iopub.status.busy": "2023-07-31T11:09:52.608766Z",
     "iopub.status.idle": "2023-07-31T11:09:58.989751Z",
     "shell.execute_reply": "2023-07-31T11:09:58.988768Z"
    },
    "papermill": {
     "duration": 6.39433,
     "end_time": "2023-07-31T11:09:58.992549",
     "exception": false,
     "start_time": "2023-07-31T11:09:52.598219",
     "status": "completed"
    },
    "tags": []
   },
   "outputs": [
    {
     "data": {
      "text/plain": [
       "'cpu'"
      ]
     },
     "execution_count": 111,
     "metadata": {},
     "output_type": "execute_result"
    }
   ],
   "source": [
    "# set device agnostic code\n",
    "device = \"cuda\" if torch.cuda.is_available() else \"cpu\"\n",
    "device     "
   ]
  },
  {
   "cell_type": "markdown",
   "id": "57ee0285",
   "metadata": {
    "papermill": {
     "duration": 0.009389,
     "end_time": "2023-07-31T11:09:59.011775",
     "exception": false,
     "start_time": "2023-07-31T11:09:59.002386",
     "status": "completed"
    },
    "tags": []
   },
   "source": [
    "# Dataset\n",
    "\n",
    "Reference:\n",
    "Jiancheng Yang, Rui Shi, Donglai Wei, Zequan Liu, Lin Zhao, Bilian Ke, Hanspeter Pfister, Bingbing Ni. Yang, Jiancheng, et al. \"MedMNIST v2-A large-scale lightweight benchmark for 2D and 3D biomedical image classification.\" Scientific Data, 2023.\n",
    "https://medmnist.com/ "
   ]
  },
  {
   "cell_type": "code",
   "execution_count": 112,
   "id": "5ff1b89e",
   "metadata": {
    "execution": {
     "iopub.execute_input": "2023-07-31T11:09:59.032636Z",
     "iopub.status.busy": "2023-07-31T11:09:59.032057Z",
     "iopub.status.idle": "2023-07-31T11:10:18.542037Z",
     "shell.execute_reply": "2023-07-31T11:10:18.540942Z"
    },
    "papermill": {
     "duration": 19.523352,
     "end_time": "2023-07-31T11:10:18.544805",
     "exception": false,
     "start_time": "2023-07-31T11:09:59.021453",
     "status": "completed"
    },
    "tags": []
   },
   "outputs": [],
   "source": [
    "import medmnist\n",
    "from medmnist import INFO, Evaluator"
   ]
  },
  {
   "cell_type": "markdown",
   "id": "34db1dfb",
   "metadata": {
    "papermill": {
     "duration": 0.011336,
     "end_time": "2023-07-31T11:10:18.568001",
     "exception": false,
     "start_time": "2023-07-31T11:10:18.556665",
     "status": "completed"
    },
    "tags": []
   },
   "source": [
    "### Download and Split Datasets"
   ]
  },
  {
   "cell_type": "code",
   "execution_count": 113,
   "id": "7cf97946",
   "metadata": {
    "execution": {
     "iopub.execute_input": "2023-07-31T11:10:18.593383Z",
     "iopub.status.busy": "2023-07-31T11:10:18.592138Z",
     "iopub.status.idle": "2023-07-31T11:11:26.998908Z",
     "shell.execute_reply": "2023-07-31T11:11:26.996894Z"
    },
    "papermill": {
     "duration": 68.421653,
     "end_time": "2023-07-31T11:11:27.001094",
     "exception": false,
     "start_time": "2023-07-31T11:10:18.579441",
     "status": "completed"
    },
    "tags": []
   },
   "outputs": [
    {
     "name": "stdout",
     "output_type": "stream",
     "text": [
      "Using downloaded and verified file: /Users/alibiouki/.medmnist/pathmnist.npz\n",
      "Using downloaded and verified file: /Users/alibiouki/.medmnist/pathmnist.npz\n",
      "Using downloaded and verified file: /Users/alibiouki/.medmnist/pathmnist.npz\n"
     ]
    }
   ],
   "source": [
    "# download and load data from official source\n",
    "\n",
    "data_flag = 'pathmnist'\n",
    "info = INFO[data_flag]\n",
    "DataClass = getattr(medmnist, info['python_class'])\n",
    "\n",
    "data_transform = transforms.Compose([\n",
    "    transforms.ToTensor(),\n",
    "    transforms.Normalize(mean=[.5], std=[.5])\n",
    "])\n",
    "\n",
    "train_data = DataClass(split='train', transform=data_transform, download=True)\n",
    "val_data = DataClass(split='val', transform=data_transform, download=True)\n",
    "test_data = DataClass(split='test', transform=data_transform, download=True)"
   ]
  },
  {
   "cell_type": "code",
   "execution_count": 114,
   "id": "5f5b9f2d",
   "metadata": {
    "execution": {
     "iopub.execute_input": "2023-07-31T11:11:27.099093Z",
     "iopub.status.busy": "2023-07-31T11:11:27.098691Z",
     "iopub.status.idle": "2023-07-31T11:11:27.105771Z",
     "shell.execute_reply": "2023-07-31T11:11:27.104895Z"
    },
    "papermill": {
     "duration": 0.058105,
     "end_time": "2023-07-31T11:11:27.107634",
     "exception": false,
     "start_time": "2023-07-31T11:11:27.049529",
     "status": "completed"
    },
    "tags": []
   },
   "outputs": [
    {
     "data": {
      "text/plain": [
       "(Dataset PathMNIST (pathmnist)\n",
       "     Number of datapoints: 89996\n",
       "     Root location: /Users/alibiouki/.medmnist\n",
       "     Split: train\n",
       "     Task: multi-class\n",
       "     Number of channels: 3\n",
       "     Meaning of labels: {'0': 'adipose', '1': 'background', '2': 'debris', '3': 'lymphocytes', '4': 'mucus', '5': 'smooth muscle', '6': 'normal colon mucosa', '7': 'cancer-associated stroma', '8': 'colorectal adenocarcinoma epithelium'}\n",
       "     Number of samples: {'train': 89996, 'val': 10004, 'test': 7180}\n",
       "     Description: The PathMNIST is based on a prior study for predicting survival from colorectal cancer histology slides, providing a dataset (NCT-CRC-HE-100K) of 100,000 non-overlapping image patches from hematoxylin & eosin stained histological images, and a test dataset (CRC-VAL-HE-7K) of 7,180 image patches from a different clinical center. The dataset is comprised of 9 types of tissues, resulting in a multi-class classification task. We resize the source images of 3×224×224 into 3×28×28, and split NCT-CRC-HE-100K into training and validation set with a ratio of 9:1. The CRC-VAL-HE-7K is treated as the test set.\n",
       "     License: CC BY 4.0,\n",
       " Dataset PathMNIST (pathmnist)\n",
       "     Number of datapoints: 7180\n",
       "     Root location: /Users/alibiouki/.medmnist\n",
       "     Split: test\n",
       "     Task: multi-class\n",
       "     Number of channels: 3\n",
       "     Meaning of labels: {'0': 'adipose', '1': 'background', '2': 'debris', '3': 'lymphocytes', '4': 'mucus', '5': 'smooth muscle', '6': 'normal colon mucosa', '7': 'cancer-associated stroma', '8': 'colorectal adenocarcinoma epithelium'}\n",
       "     Number of samples: {'train': 89996, 'val': 10004, 'test': 7180}\n",
       "     Description: The PathMNIST is based on a prior study for predicting survival from colorectal cancer histology slides, providing a dataset (NCT-CRC-HE-100K) of 100,000 non-overlapping image patches from hematoxylin & eosin stained histological images, and a test dataset (CRC-VAL-HE-7K) of 7,180 image patches from a different clinical center. The dataset is comprised of 9 types of tissues, resulting in a multi-class classification task. We resize the source images of 3×224×224 into 3×28×28, and split NCT-CRC-HE-100K into training and validation set with a ratio of 9:1. The CRC-VAL-HE-7K is treated as the test set.\n",
       "     License: CC BY 4.0,\n",
       " Dataset PathMNIST (pathmnist)\n",
       "     Number of datapoints: 10004\n",
       "     Root location: /Users/alibiouki/.medmnist\n",
       "     Split: val\n",
       "     Task: multi-class\n",
       "     Number of channels: 3\n",
       "     Meaning of labels: {'0': 'adipose', '1': 'background', '2': 'debris', '3': 'lymphocytes', '4': 'mucus', '5': 'smooth muscle', '6': 'normal colon mucosa', '7': 'cancer-associated stroma', '8': 'colorectal adenocarcinoma epithelium'}\n",
       "     Number of samples: {'train': 89996, 'val': 10004, 'test': 7180}\n",
       "     Description: The PathMNIST is based on a prior study for predicting survival from colorectal cancer histology slides, providing a dataset (NCT-CRC-HE-100K) of 100,000 non-overlapping image patches from hematoxylin & eosin stained histological images, and a test dataset (CRC-VAL-HE-7K) of 7,180 image patches from a different clinical center. The dataset is comprised of 9 types of tissues, resulting in a multi-class classification task. We resize the source images of 3×224×224 into 3×28×28, and split NCT-CRC-HE-100K into training and validation set with a ratio of 9:1. The CRC-VAL-HE-7K is treated as the test set.\n",
       "     License: CC BY 4.0)"
      ]
     },
     "execution_count": 114,
     "metadata": {},
     "output_type": "execute_result"
    }
   ],
   "source": [
    "train_data, test_data, val_data"
   ]
  },
  {
   "cell_type": "code",
   "execution_count": 115,
   "id": "ff8a60f9",
   "metadata": {
    "execution": {
     "iopub.execute_input": "2023-07-31T11:11:27.206284Z",
     "iopub.status.busy": "2023-07-31T11:11:27.204365Z",
     "iopub.status.idle": "2023-07-31T11:11:27.400214Z",
     "shell.execute_reply": "2023-07-31T11:11:27.399198Z"
    },
    "papermill": {
     "duration": 0.247388,
     "end_time": "2023-07-31T11:11:27.402461",
     "exception": false,
     "start_time": "2023-07-31T11:11:27.155073",
     "status": "completed"
    },
    "tags": []
   },
   "outputs": [
    {
     "name": "stdout",
     "output_type": "stream",
     "text": [
      "Image:\n",
      " tensor([[[0.7255, 0.7176, 0.7255,  ..., 0.7255, 0.7176, 0.7333],\n",
      "         [0.7098, 0.7255, 0.7176,  ..., 0.5451, 0.5059, 0.4902],\n",
      "         [0.7255, 0.7255, 0.7176,  ..., 0.6314, 0.6235, 0.6392],\n",
      "         ...,\n",
      "         [0.7098, 0.7020, 0.7333,  ..., 0.7333, 0.7255, 0.7333],\n",
      "         [0.6706, 0.7020, 0.7333,  ..., 0.7333, 0.7333, 0.7333],\n",
      "         [0.6863, 0.7255, 0.7333,  ..., 0.7255, 0.7333, 0.7412]],\n",
      "\n",
      "        [[0.6314, 0.6235, 0.6235,  ..., 0.6314, 0.6235, 0.6314],\n",
      "         [0.6157, 0.6235, 0.6157,  ..., 0.3882, 0.3490, 0.3176],\n",
      "         [0.6314, 0.6235, 0.6078,  ..., 0.4980, 0.5059, 0.5216],\n",
      "         ...,\n",
      "         [0.6078, 0.5765, 0.6314,  ..., 0.6314, 0.6314, 0.6392],\n",
      "         [0.5059, 0.5686, 0.6314,  ..., 0.6314, 0.6392, 0.6314],\n",
      "         [0.5294, 0.6235, 0.6314,  ..., 0.6314, 0.6314, 0.6392]],\n",
      "\n",
      "        [[0.7804, 0.7804, 0.7804,  ..., 0.7804, 0.7804, 0.7804],\n",
      "         [0.7725, 0.7725, 0.7725,  ..., 0.5843, 0.5451, 0.5294],\n",
      "         [0.7725, 0.7725, 0.7647,  ..., 0.6706, 0.6706, 0.6941],\n",
      "         ...,\n",
      "         [0.7647, 0.7412, 0.7804,  ..., 0.7804, 0.7804, 0.7804],\n",
      "         [0.7098, 0.7412, 0.7804,  ..., 0.7804, 0.7804, 0.7804],\n",
      "         [0.7255, 0.7725, 0.7804,  ..., 0.7804, 0.7804, 0.7882]]])\n",
      "Label:\n",
      " [0]\n",
      "Image shape: torch.Size([3, 28, 28])\n",
      "Label: [0]\n"
     ]
    }
   ],
   "source": [
    "# check data properties\n",
    "img = train_data[0][0]\n",
    "label = train_data[0][1]\n",
    "\n",
    "print(f\"Image:\\n {img}\") \n",
    "print(f\"Label:\\n {label}\")\n",
    "\n",
    "print(f\"Image shape: {img.shape}\")\n",
    "print(f\"Label: {label}\")"
   ]
  },
  {
   "cell_type": "code",
   "execution_count": 116,
   "id": "cfd00823",
   "metadata": {
    "execution": {
     "iopub.execute_input": "2023-07-31T11:11:27.499448Z",
     "iopub.status.busy": "2023-07-31T11:11:27.499018Z",
     "iopub.status.idle": "2023-07-31T11:11:27.509649Z",
     "shell.execute_reply": "2023-07-31T11:11:27.504540Z"
    },
    "papermill": {
     "duration": 0.061028,
     "end_time": "2023-07-31T11:11:27.511811",
     "exception": false,
     "start_time": "2023-07-31T11:11:27.450783",
     "status": "completed"
    },
    "tags": []
   },
   "outputs": [
    {
     "name": "stdout",
     "output_type": "stream",
     "text": [
      "number of channels: 3\n",
      "number of classes: 9\n",
      "class names: {'0': 'adipose', '1': 'background', '2': 'debris', '3': 'lymphocytes', '4': 'mucus', '5': 'smooth muscle', '6': 'normal colon mucosa', '7': 'cancer-associated stroma', '8': 'colorectal adenocarcinoma epithelium'}\n"
     ]
    }
   ],
   "source": [
    "# Number of image channels\n",
    "n_channels = info['n_channels']\n",
    "print(f\"number of channels: {n_channels}\")\n",
    "\n",
    "# Number of classes\n",
    "n_classes = len(info['label'])\n",
    "print(f\"number of classes: {n_classes}\")\n",
    "\n",
    "# Get the class names from the dataset\n",
    "class_names = info['label']\n",
    "print(f\"class names: {class_names}\")"
   ]
  },
  {
   "cell_type": "code",
   "execution_count": 117,
   "id": "3a4273bd",
   "metadata": {
    "execution": {
     "iopub.execute_input": "2023-07-31T11:11:27.611386Z",
     "iopub.status.busy": "2023-07-31T11:11:27.610472Z",
     "iopub.status.idle": "2023-07-31T11:11:28.069639Z",
     "shell.execute_reply": "2023-07-31T11:11:28.068380Z"
    },
    "papermill": {
     "duration": 0.51183,
     "end_time": "2023-07-31T11:11:28.072711",
     "exception": false,
     "start_time": "2023-07-31T11:11:27.560881",
     "status": "completed"
    },
    "tags": []
   },
   "outputs": [
    {
     "name": "stderr",
     "output_type": "stream",
     "text": [
      "Clipping input data to the valid range for imshow with RGB data ([0..1] for floats or [0..255] for integers).\n",
      "Clipping input data to the valid range for imshow with RGB data ([0..1] for floats or [0..255] for integers).\n"
     ]
    },
    {
     "data": {
      "image/png": "[encoded data removed]",
      "text/plain": [
       "<Figure size 300x300 with 1 Axes>"
      ]
     },
     "metadata": {},
     "output_type": "display_data"
    },
    {
     "data": {
      "image/png": "[encoded data removed]",
      "text/plain": [
       "<Figure size 300x300 with 1 Axes>"
      ]
     },
     "metadata": {},
     "output_type": "display_data"
    },
    {
     "data": {
      "image/png": "[encoded data removed]",
      "text/plain": [
       "<Figure size 300x300 with 1 Axes>"
      ]
     },
     "metadata": {},
     "output_type": "display_data"
    }
   ],
   "source": [
    "# check data images\n",
    "for i in range(3):\n",
    "    img = train_data[i][0]\n",
    "    label = train_data[i][1]\n",
    "    plt.figure(figsize=(3, 3))\n",
    "    plt.imshow(img.permute(1, 2, 0))\n",
    "    plt.title(label)\n",
    "    plt.axis(False);"
   ]
  },
  {
   "cell_type": "code",
   "execution_count": 118,
   "id": "b274a3ea",
   "metadata": {
    "execution": {
     "iopub.execute_input": "2023-07-31T11:11:28.175506Z",
     "iopub.status.busy": "2023-07-31T11:11:28.174772Z",
     "iopub.status.idle": "2023-07-31T11:11:28.181931Z",
     "shell.execute_reply": "2023-07-31T11:11:28.181033Z"
    },
    "papermill": {
     "duration": 0.060742,
     "end_time": "2023-07-31T11:11:28.183991",
     "exception": false,
     "start_time": "2023-07-31T11:11:28.123249",
     "status": "completed"
    },
    "tags": []
   },
   "outputs": [],
   "source": [
    "# change data into dataloader form\n",
    "BATCH_SIZE = 128\n",
    "train_dataloader = DataLoader(dataset=train_data, batch_size=BATCH_SIZE, shuffle=True)\n",
    "val_dataloader = DataLoader(dataset=val_data, batch_size=BATCH_SIZE, shuffle=False)\n",
    "test_dataloader = DataLoader(dataset=test_data, batch_size=BATCH_SIZE, shuffle=False)"
   ]
  },
  {
   "cell_type": "code",
   "execution_count": 119,
   "id": "3c0044f5",
   "metadata": {
    "execution": {
     "iopub.execute_input": "2023-07-31T11:11:28.287783Z",
     "iopub.status.busy": "2023-07-31T11:11:28.286811Z",
     "iopub.status.idle": "2023-07-31T11:11:28.293447Z",
     "shell.execute_reply": "2023-07-31T11:11:28.292392Z"
    },
    "papermill": {
     "duration": 0.059116,
     "end_time": "2023-07-31T11:11:28.295483",
     "exception": false,
     "start_time": "2023-07-31T11:11:28.236367",
     "status": "completed"
    },
    "tags": []
   },
   "outputs": [
    {
     "name": "stdout",
     "output_type": "stream",
     "text": [
      "Dataloaders: (<torch.utils.data.dataloader.DataLoader object at 0x2acd02e90>, <torch.utils.data.dataloader.DataLoader object at 0x2a9bcb2d0>)\n",
      "Length of train dataloader: 704 batches of 128\n",
      "Length of test dataloader: 57 batches of 128\n",
      "Length of val dataloader: 79 batches of 128\n"
     ]
    }
   ],
   "source": [
    "# check dataloader\n",
    "print(f\"Dataloaders: {train_dataloader, test_dataloader}\")\n",
    "print(f\"Length of train dataloader: {len(train_dataloader)} batches of {BATCH_SIZE}\")\n",
    "print(f\"Length of test dataloader: {len(test_dataloader)} batches of {BATCH_SIZE}\")\n",
    "print(f\"Length of val dataloader: {len(val_dataloader)} batches of {BATCH_SIZE}\")"
   ]
  },
  {
   "cell_type": "code",
   "execution_count": 120,
   "id": "39665514",
   "metadata": {
    "execution": {
     "iopub.execute_input": "2023-07-31T11:11:28.397466Z",
     "iopub.status.busy": "2023-07-31T11:11:28.396354Z",
     "iopub.status.idle": "2023-07-31T11:11:28.457538Z",
     "shell.execute_reply": "2023-07-31T11:11:28.456343Z"
    },
    "papermill": {
     "duration": 0.113958,
     "end_time": "2023-07-31T11:11:28.460265",
     "exception": false,
     "start_time": "2023-07-31T11:11:28.346307",
     "status": "completed"
    },
    "tags": []
   },
   "outputs": [
    {
     "data": {
      "text/plain": [
       "(torch.Size([128, 3, 28, 28]), torch.Size([128, 1]))"
      ]
     },
     "execution_count": 120,
     "metadata": {},
     "output_type": "execute_result"
    }
   ],
   "source": [
    "# check feature and label shape\n",
    "train_features_batch, train_labels_batch = next(iter(train_dataloader))\n",
    "train_features_batch.shape, train_labels_batch.shape"
   ]
  },
  {
   "cell_type": "markdown",
   "id": "b5ece273",
   "metadata": {
    "papermill": {
     "duration": 0.050873,
     "end_time": "2023-07-31T11:11:28.561276",
     "exception": false,
     "start_time": "2023-07-31T11:11:28.510403",
     "status": "completed"
    },
    "tags": []
   },
   "source": [
    "# Model"
   ]
  },
  {
   "cell_type": "markdown",
   "id": "9029ca92",
   "metadata": {
    "papermill": {
     "duration": 0.049469,
     "end_time": "2023-07-31T11:11:28.659640",
     "exception": false,
     "start_time": "2023-07-31T11:11:28.610171",
     "status": "completed"
    },
    "tags": []
   },
   "source": [
    "## Define Reusable functions"
   ]
  },
  {
   "cell_type": "code",
   "execution_count": 121,
   "id": "3185f94f",
   "metadata": {
    "execution": {
     "iopub.execute_input": "2023-07-31T11:11:28.761031Z",
     "iopub.status.busy": "2023-07-31T11:11:28.760679Z",
     "iopub.status.idle": "2023-07-31T11:11:28.779802Z",
     "shell.execute_reply": "2023-07-31T11:11:28.778702Z"
    },
    "papermill": {
     "duration": 0.072885,
     "end_time": "2023-07-31T11:11:28.781935",
     "exception": false,
     "start_time": "2023-07-31T11:11:28.709050",
     "status": "completed"
    },
    "tags": []
   },
   "outputs": [],
   "source": [
    "# define training loop functions\n",
    "def train_step(model: torch.nn.Module,\n",
    "               data_loader: torch.utils.data.DataLoader,\n",
    "               loss_fn: torch.nn.Module,\n",
    "               optimizer: torch.optim.Optimizer,\n",
    "               accuracy_fn,\n",
    "               device: torch.device = device):\n",
    "    \n",
    "    train_loss, train_acc = 0, 0\n",
    "    model.to(device)\n",
    "    \n",
    "    for batch, (X, y) in enumerate(data_loader):\n",
    "        # need to change target shape for this medmnist data \n",
    "        y = y.squeeze().long()\n",
    "        \n",
    "        # Send data to selected device\n",
    "        X, y = X.to(device), y.to(device)\n",
    "\n",
    "        # 1. Forward pass\n",
    "        y_pred = model(X)\n",
    "\n",
    "        # 2. loss and accuracy\n",
    "        loss = loss_fn(y_pred, y)\n",
    "        train_loss += loss\n",
    "        train_acc += accuracy_fn(y_true=y,\n",
    "                                 y_pred=y_pred.argmax(dim=1))\n",
    "\n",
    "        # 3. Optimizer zero grad\n",
    "        optimizer.zero_grad()\n",
    "\n",
    "        # 4. Loss backward\n",
    "        loss.backward()\n",
    "\n",
    "        # 5. Optimizer step\n",
    "        optimizer.step()\n",
    "\n",
    "    # Calculate loss and accuracy per epoch \n",
    "    train_loss /= len(data_loader)\n",
    "    train_acc /= len(data_loader)\n",
    "    \n",
    "    return train_loss, train_acc"
   ]
  },
  {
   "cell_type": "code",
   "execution_count": 122,
   "id": "d71ba9c2",
   "metadata": {},
   "outputs": [],
   "source": [
    "def test_step(data_loader: torch.utils.data.DataLoader,\n",
    "              model: torch.nn.Module,\n",
    "              loss_fn: torch.nn.Module,\n",
    "              accuracy_fn,\n",
    "              device: torch.device = device):\n",
    "    \n",
    "    test_loss, test_acc = 0, 0\n",
    "    model.to(device)\n",
    "    \n",
    "    model.eval() # eval mode for testing\n",
    "    with torch.inference_mode(): # Inference context manager\n",
    "        for X, y in data_loader:\n",
    "            # need to change target shape for this medmnist data \n",
    "            y = y.squeeze().long()\n",
    "            \n",
    "            # Send data to selected device\n",
    "            X, y = X.to(device), y.to(device)\n",
    "\n",
    "            # 1. Forward pass\n",
    "            test_pred = model(X)\n",
    "\n",
    "            # 2. Calculate loss and accuracy\n",
    "            test_loss += loss_fn(test_pred, y)\n",
    "            test_acc += accuracy_fn(y_true=y,\n",
    "                                    y_pred=test_pred.argmax(dim=1))\n",
    "\n",
    "        # Adjust metrics and print out\n",
    "        test_loss /= len(data_loader)\n",
    "        test_acc /= len(data_loader)\n",
    "        \n",
    "        return test_loss, test_acc"
   ]
  },
  {
   "cell_type": "code",
   "execution_count": 123,
   "id": "e826f1b0",
   "metadata": {},
   "outputs": [],
   "source": [
    "def eval_func(data_loader: torch.utils.data.DataLoader,\n",
    "              model: torch.nn.Module,\n",
    "              loss_fn: torch.nn.Module,\n",
    "              accuracy_fn,\n",
    "              device: torch.device = device):\n",
    "    \n",
    "    eval_loss, eval_acc = 0, 0\n",
    "    model.to(device)\n",
    "    \n",
    "    model.eval()\n",
    "    y_preds = []\n",
    "    y_targets = []\n",
    "    with torch.inference_mode():\n",
    "        for batch, (X, y) in tqdm(enumerate(data_loader)):\n",
    "            # need to change target shape for this medmnist data \n",
    "            y = y.squeeze().long()\n",
    "            \n",
    "            # Send data to selected device\n",
    "            X, y = X.to(device), y.to(device)\n",
    "            \n",
    "            # Forward pass\n",
    "            eval_pred = model(X)\n",
    "            \n",
    "            # Find loss and accuracy\n",
    "            eval_loss += loss_fn(eval_pred, y)\n",
    "            eval_acc += accuracy_fn(y_true=y,\n",
    "                                    y_pred=eval_pred.argmax(dim=1))\n",
    "\n",
    "            # Add prediction and target labels to list\n",
    "            eval_labels = torch.argmax(torch.softmax(eval_pred, dim=1), dim=1)\n",
    "            y_preds.append(eval_labels)\n",
    "            y_targets.append(y)\n",
    "\n",
    "        # Scale loss and acc \n",
    "        eval_loss /= len(data_loader)\n",
    "        eval_acc /= len(data_loader)\n",
    "        \n",
    "        # Put predictions on CPU for evaluation\n",
    "        y_preds=torch.cat(y_preds).cpu() \n",
    "        y_targets=torch.cat(y_targets).cpu() \n",
    "        \n",
    "        return {\"model_name\": model.__class__.__name__, \n",
    "                \"loss\": eval_loss.item(),\n",
    "                \"accuracy\": eval_acc,\n",
    "                \"predictions\": y_preds,\n",
    "                \"targets\": y_targets}"
   ]
  },
  {
   "cell_type": "code",
   "execution_count": 124,
   "id": "06bcc8a4",
   "metadata": {
    "execution": {
     "iopub.execute_input": "2023-07-31T11:11:28.881360Z",
     "iopub.status.busy": "2023-07-31T11:11:28.880500Z",
     "iopub.status.idle": "2023-07-31T11:11:28.886882Z",
     "shell.execute_reply": "2023-07-31T11:11:28.885972Z"
    },
    "papermill": {
     "duration": 0.057944,
     "end_time": "2023-07-31T11:11:28.888933",
     "exception": false,
     "start_time": "2023-07-31T11:11:28.830989",
     "status": "completed"
    },
    "tags": []
   },
   "outputs": [],
   "source": [
    "# function to calculate model run time\n",
    "\n",
    "def print_train_time(start: float, end: float, device: torch.device = None):\n",
    "    total_time = end - start\n",
    "    print(f\"Train time on {device}: {total_time:.3f} seconds\")\n",
    "    return total_time"
   ]
  },
  {
   "cell_type": "code",
   "execution_count": 125,
   "id": "fc9f0de4",
   "metadata": {
    "execution": {
     "iopub.execute_input": "2023-07-31T11:11:28.990466Z",
     "iopub.status.busy": "2023-07-31T11:11:28.990081Z",
     "iopub.status.idle": "2023-07-31T11:11:28.995017Z",
     "shell.execute_reply": "2023-07-31T11:11:28.994153Z"
    },
    "papermill": {
     "duration": 0.059401,
     "end_time": "2023-07-31T11:11:28.997072",
     "exception": false,
     "start_time": "2023-07-31T11:11:28.937671",
     "status": "completed"
    },
    "tags": []
   },
   "outputs": [],
   "source": [
    "# accuracy calculation function\n",
    "\n",
    "def accuracy_fn(y_true, y_pred):\n",
    "    correct = torch.eq(y_true, y_pred).sum().item() \n",
    "    acc = (correct / len(y_pred)) * 100 \n",
    "    return acc"
   ]
  },
  {
   "cell_type": "markdown",
   "id": "acb2251f",
   "metadata": {
    "papermill": {
     "duration": 0.085,
     "end_time": "2023-07-31T11:31:46.845325",
     "exception": false,
     "start_time": "2023-07-31T11:31:46.760325",
     "status": "completed"
    },
    "tags": []
   },
   "source": [
    "## Making CNN"
   ]
  },
  {
   "cell_type": "code",
   "execution_count": 126,
   "id": "d0a4a439",
   "metadata": {
    "execution": {
     "iopub.execute_input": "2023-07-31T11:31:47.067401Z",
     "iopub.status.busy": "2023-07-31T11:31:47.067006Z",
     "iopub.status.idle": "2023-07-31T11:31:50.680128Z",
     "shell.execute_reply": "2023-07-31T11:31:50.679056Z"
    },
    "papermill": {
     "duration": 3.670643,
     "end_time": "2023-07-31T11:31:50.682541",
     "exception": false,
     "start_time": "2023-07-31T11:31:47.011898",
     "status": "completed"
    },
    "tags": []
   },
   "outputs": [
    {
     "data": {
      "text/plain": [
       "cnn(\n",
       "  (layer1): Sequential(\n",
       "    (0): Conv2d(3, 16, kernel_size=(3, 3), stride=(1, 1))\n",
       "    (1): BatchNorm2d(16, eps=1e-05, momentum=0.1, affine=True, track_running_stats=True)\n",
       "    (2): ReLU()\n",
       "  )\n",
       "  (layer2): Sequential(\n",
       "    (0): Conv2d(16, 16, kernel_size=(3, 3), stride=(1, 1))\n",
       "    (1): BatchNorm2d(16, eps=1e-05, momentum=0.1, affine=True, track_running_stats=True)\n",
       "    (2): ReLU()\n",
       "    (3): MaxPool2d(kernel_size=2, stride=2, padding=0, dilation=1, ceil_mode=False)\n",
       "  )\n",
       "  (layer3): Sequential(\n",
       "    (0): Conv2d(16, 64, kernel_size=(3, 3), stride=(1, 1))\n",
       "    (1): BatchNorm2d(64, eps=1e-05, momentum=0.1, affine=True, track_running_stats=True)\n",
       "    (2): ReLU()\n",
       "  )\n",
       "  (layer4): Sequential(\n",
       "    (0): Conv2d(64, 64, kernel_size=(3, 3), stride=(1, 1))\n",
       "    (1): BatchNorm2d(64, eps=1e-05, momentum=0.1, affine=True, track_running_stats=True)\n",
       "    (2): ReLU()\n",
       "  )\n",
       "  (layer5): Sequential(\n",
       "    (0): Conv2d(64, 64, kernel_size=(3, 3), stride=(1, 1), padding=(1, 1))\n",
       "    (1): BatchNorm2d(64, eps=1e-05, momentum=0.1, affine=True, track_running_stats=True)\n",
       "    (2): ReLU()\n",
       "    (3): MaxPool2d(kernel_size=2, stride=2, padding=0, dilation=1, ceil_mode=False)\n",
       "  )\n",
       "  (fc): Sequential(\n",
       "    (0): Linear(in_features=1024, out_features=128, bias=True)\n",
       "    (1): ReLU()\n",
       "    (2): Linear(in_features=128, out_features=128, bias=True)\n",
       "    (3): ReLU()\n",
       "    (4): Linear(in_features=128, out_features=9, bias=True)\n",
       "  )\n",
       ")"
      ]
     },
     "execution_count": 126,
     "metadata": {},
     "output_type": "execute_result"
    }
   ],
   "source": [
    "class cnn(torch.nn.Module):\n",
    "    def __init__(self, input_shape: int, hidden_units: int, output_shape: int):\n",
    "        super().__init__()\n",
    "\n",
    "        self.layer1 = nn.Sequential(\n",
    "            nn.Conv2d(in_channels=input_shape,\n",
    "                      out_channels=hidden_units, \n",
    "                      kernel_size=3),\n",
    "            nn.BatchNorm2d(hidden_units),\n",
    "            nn.ReLU())\n",
    "\n",
    "        self.layer2 = nn.Sequential(\n",
    "            nn.Conv2d(in_channels=hidden_units, \n",
    "                      out_channels=hidden_units, \n",
    "                      kernel_size=3),\n",
    "            nn.BatchNorm2d(hidden_units),\n",
    "            nn.ReLU(),\n",
    "            nn.MaxPool2d(kernel_size=2, \n",
    "                         stride=2))\n",
    "\n",
    "        self.layer3 = nn.Sequential(\n",
    "            nn.Conv2d(in_channels=hidden_units, \n",
    "                      out_channels=hidden_units*4, \n",
    "                      kernel_size=3),\n",
    "            nn.BatchNorm2d(hidden_units*4),\n",
    "            nn.ReLU())\n",
    "        \n",
    "        self.layer4 = nn.Sequential(\n",
    "            nn.Conv2d(in_channels=hidden_units*4, \n",
    "                      out_channels=hidden_units*4, \n",
    "                      kernel_size=3),\n",
    "            nn.BatchNorm2d(hidden_units*4),\n",
    "            nn.ReLU())\n",
    "\n",
    "        self.layer5 = nn.Sequential(\n",
    "            nn.Conv2d(in_channels=hidden_units*4, \n",
    "                      out_channels=hidden_units*4, \n",
    "                      kernel_size=3,\n",
    "                      padding=1),\n",
    "            nn.BatchNorm2d(hidden_units*4),\n",
    "            nn.ReLU(),\n",
    "            nn.MaxPool2d(kernel_size=2, \n",
    "                         stride=2))\n",
    "\n",
    "        self.fc = nn.Sequential(\n",
    "            nn.Linear(hidden_units*4 * 4 * 4, hidden_units*8),\n",
    "            nn.ReLU(),\n",
    "            nn.Linear(hidden_units*8, hidden_units*8),\n",
    "            nn.ReLU(),\n",
    "            nn.Linear(hidden_units*8, n_classes))\n",
    "\n",
    "    def forward(self, x):\n",
    "        x = self.layer1(x)\n",
    "        x = self.layer2(x)\n",
    "        x = self.layer3(x)\n",
    "        x = self.layer4(x)\n",
    "        x = self.layer5(x)\n",
    "        x = x.view(x.size(0), -1)\n",
    "        x = self.fc(x)\n",
    "        return x\n",
    "\n",
    "    \n",
    "# Define Model\n",
    "model = cnn(input_shape=n_channels, \n",
    "                     hidden_units=16,\n",
    "                     output_shape=n_classes).to(device)\n",
    "\n",
    "\n",
    "# Setup loss and optimizer\n",
    "loss_fn = nn.CrossEntropyLoss()\n",
    "optimizer = torch.optim.SGD(model.parameters(), lr=0.001, momentum=0.9)\n",
    "\n",
    "# View Model\n",
    "model"
   ]
  },
  {
   "cell_type": "markdown",
   "id": "c81e9505",
   "metadata": {},
   "source": [
    "## Train and Test"
   ]
  },
  {
   "cell_type": "code",
   "execution_count": 127,
   "id": "4c6d8eb9",
   "metadata": {},
   "outputs": [
    {
     "data": {
      "application/vnd.jupyter.widget-view+json": {
       "model_id": "dae9824362694ca9ae4a6c5827b0a580",
       "version_major": 2,
       "version_minor": 0
      },
      "text/plain": [
       "  0%|          | 0/10 [00:00<?, ?it/s]"
      ]
     },
     "metadata": {},
     "output_type": "display_data"
    },
    {
     "name": "stdout",
     "output_type": "stream",
     "text": [
      "Epoch: 0 | Training loss: 1.081 | Training acc: 61.61 | Test loss: 0.905 | Test acc: 72.55\n",
      "Saving best model for epoch: 0\n",
      "Epoch: 1 | Training loss: 0.959 | Training acc: 64.57 | Test loss: 1.209 | Test acc: 58.85\n",
      "Epoch: 2 | Training loss: 0.651 | Training acc: 76.09 | Test loss: 0.915 | Test acc: 74.80\n",
      "Epoch: 3 | Training loss: 0.533 | Training acc: 80.63 | Test loss: 0.764 | Test acc: 77.29\n",
      "Saving best model for epoch: 3\n",
      "Epoch: 4 | Training loss: 0.468 | Training acc: 82.81 | Test loss: 0.806 | Test acc: 75.15\n",
      "Epoch: 5 | Training loss: 0.414 | Training acc: 84.87 | Test loss: 0.835 | Test acc: 76.65\n",
      "Epoch: 6 | Training loss: 0.371 | Training acc: 86.56 | Test loss: 0.722 | Test acc: 78.77\n",
      "Saving best model for epoch: 6\n",
      "Epoch: 7 | Training loss: 0.346 | Training acc: 87.44 | Test loss: 0.709 | Test acc: 79.68\n",
      "Saving best model for epoch: 7\n",
      "Epoch: 8 | Training loss: 0.321 | Training acc: 88.26 | Test loss: 0.668 | Test acc: 79.59\n",
      "Saving best model for epoch: 8\n",
      "Epoch: 9 | Training loss: 0.297 | Training acc: 89.22 | Test loss: 0.872 | Test acc: 75.17\n",
      "Train time on cpu: 834.072 seconds\n"
     ]
    }
   ],
   "source": [
    "torch.manual_seed(42)\n",
    "\n",
    "# Measure Time\n",
    "\n",
    "train_time_start_model = timer()\n",
    "\n",
    "iteration_loss_list = []\n",
    "iteration_accuracy_list = []\n",
    "\n",
    "# set parameters\n",
    "epochs = 10\n",
    "best_loss = 10\n",
    "\n",
    "# call train and test function\n",
    "for epoch in tqdm(range(epochs)):\n",
    "    train_loss, train_acc = train_step(data_loader=train_dataloader,\n",
    "                                       model=model,\n",
    "                                       loss_fn = loss_fn,\n",
    "                                       optimizer=optimizer,\n",
    "                                       accuracy_fn=accuracy_fn,\n",
    "                                       device=device)\n",
    "    \n",
    "    test_loss, test_acc = test_step(data_loader=test_dataloader,\n",
    "                                    model=model,\n",
    "                                    loss_fn=loss_fn,\n",
    "                                    accuracy_fn=accuracy_fn,\n",
    "                                    device=device)\n",
    "    \n",
    "    for iteration, (x, y) in enumerate(train_dataloader):\n",
    "        iteration_loss_list.append(train_loss.item())\n",
    "        iteration_accuracy_list.append(train_acc)\n",
    "\n",
    "    \n",
    "    print(f\"Epoch: {epoch} | Training loss: {train_loss:.3f} | Training acc: {train_acc:.2f} | Test loss: {test_loss:.3f} | Test acc: {test_acc:.2f}\")\n",
    "\n",
    "    # save best model instance\n",
    "\n",
    "    if test_loss < best_loss:\n",
    "        best_loss = test_loss\n",
    "        print(f\"Saving best model for epoch: {epoch}\")\n",
    "        torch.save(obj=model.state_dict(), \n",
    "                   f=\"./model.pth\")\n",
    "\n",
    "        \n",
    "train_time_end_model = timer()\n",
    "total_train_time_model = print_train_time(start=train_time_start_model,\n",
    "                                           end=train_time_end_model,\n",
    "                                           device=device)\n",
    "\n"
   ]
  },
  {
   "cell_type": "markdown",
   "id": "2a3202fa",
   "metadata": {},
   "source": [
    "## Evaluate and visualize results"
   ]
  },
  {
   "cell_type": "code",
   "execution_count": 128,
   "id": "77b0ce63",
   "metadata": {},
   "outputs": [
    {
     "data": {
      "application/vnd.jupyter.widget-view+json": {
       "model_id": "77aaf00f1a7b4a8193ac86448cc4330e",
       "version_major": 2,
       "version_minor": 0
      },
      "text/plain": [
       "0it [00:00, ?it/s]"
      ]
     },
     "metadata": {},
     "output_type": "display_data"
    },
    {
     "data": {
      "text/plain": [
       "{'model_name': 'cnn',\n",
       " 'loss': 0.36918187141418457,\n",
       " 'accuracy': 86.8117088607595,\n",
       " 'predictions': tensor([5, 0, 1,  ..., 3, 0, 0]),\n",
       " 'targets': tensor([5, 0, 1,  ..., 3, 0, 0])}"
      ]
     },
     "execution_count": 128,
     "metadata": {},
     "output_type": "execute_result"
    }
   ],
   "source": [
    "# Load model\n",
    "loaded_model = cnn(input_shape=n_channels,\n",
    "                   hidden_units=16,\n",
    "                   output_shape=n_classes).to(device)\n",
    "\n",
    "loaded_model.load_state_dict(torch.load(f=\"./model.pth\"))\n",
    "\n",
    "# get results\n",
    "model_results = eval_func(data_loader=val_dataloader,\n",
    "                          model=loaded_model,\n",
    "                          loss_fn=loss_fn,\n",
    "                          accuracy_fn=accuracy_fn,\n",
    "                          device=device)\n",
    "\n",
    "model_results"
   ]
  },
  {
   "cell_type": "code",
   "execution_count": 129,
   "id": "47bd61b7",
   "metadata": {},
   "outputs": [
    {
     "data": {
      "image/png": "[encoded data removed]",
      "text/plain": [
       "<Figure size 1000x700 with 1 Axes>"
      ]
     },
     "metadata": {},
     "output_type": "display_data"
    }
   ],
   "source": [
    "# Get Model predictions and true targets\n",
    "y_targets = model_results['targets']\n",
    "y_preds = model_results['predictions']\n",
    "\n",
    "# Setup confusion matrix \n",
    "confmat = ConfusionMatrix(task=\"multiclass\", num_classes=len(class_names))\n",
    "confmat_tensor = confmat(preds=y_preds,\n",
    "                         target=y_targets)\n",
    "\n",
    "# Plot the confusion matrix\n",
    "fix, ax = plot_confusion_matrix(\n",
    "    conf_mat=confmat_tensor.numpy(),\n",
    "    class_names=class_names,\n",
    "    figsize=(10, 7)\n",
    ")\n"
   ]
  },
  {
   "cell_type": "code",
   "execution_count": 136,
   "id": "349c378d",
   "metadata": {},
   "outputs": [
    {
     "data": {
      "image/png": "[encoded data removed]",
      "text/plain": [
       "<Figure size 1000x500 with 1 Axes>"
      ]
     },
     "metadata": {},
     "output_type": "display_data"
    },
    {
     "data": {
      "image/png": "[encoded data removed]",
      "text/plain": [
       "<Figure size 1000x500 with 1 Axes>"
      ]
     },
     "metadata": {},
     "output_type": "display_data"
    }
   ],
   "source": [
    "# Plot iteration vs loss\n",
    "plt.figure(figsize=(10, 5)) \n",
    "plt.semilogy(iteration_loss_list, label='Training Loss')\n",
    "plt.xlabel('Iteration')\n",
    "plt.ylabel('Loss')\n",
    "plt.title('Iteration vs Loss')\n",
    "plt.legend()\n",
    "plt.show()\n",
    "\n",
    "# Plot iteration vs accuracy\n",
    "plt.figure(figsize=(10, 5))\n",
    "plt.semilogx(iteration_accuracy_list, label='Training Accuracy')  \n",
    "plt.xlabel('Iteration')\n",
    "plt.ylabel('Accuracy')\n",
    "plt.title('Iteration vs Accuracy')\n",
    "plt.legend() \n",
    "plt.show()\n"
   ]
  }
 ],
 "metadata": {
  "kernelspec": {
   "display_name": "Python 3",
   "language": "python",
   "name": "python3"
  },
  "language_info": {
   "codemirror_mode": {
    "name": "ipython",
    "version": 3
   },
   "file_extension": ".py",
   "mimetype": "text/x-python",
   "name": "python",
   "nbconvert_exporter": "python",
   "pygments_lexer": "ipython3",
   "version": "3.11.3"
  },
  "papermill": {
   "default_parameters": {},
   "duration": 2570.41233,
   "end_time": "2023-07-31T11:52:28.109073",
   "environment_variables": {},
   "exception": null,
   "input_path": "__notebook__.ipynb",
   "output_path": "__notebook__.ipynb",
   "parameters": {},
   "start_time": "2023-07-31T11:09:37.696743",
   "version": "2.4.0"
  },
  "widgets": {
   "application/vnd.jupyter.widget-state+json": {
    "state": {
     "01bb66abd4854d4f994dfec71429de3c": {
      "model_module": "@jupyter-widgets/base",
      "model_module_version": "1.2.0",
      "model_name": "LayoutModel",
      "state": {
       "_model_module": "@jupyter-widgets/base",
       "_model_module_version": "1.2.0",
       "_model_name": "LayoutModel",
       "_view_count": null,
       "_view_module": "@jupyter-widgets/base",
       "_view_module_version": "1.2.0",
       "_view_name": "LayoutView",
       "align_content": null,
       "align_items": null,
       "align_self": null,
       "border": null,
       "bottom": null,
       "display": null,
       "flex": null,
       "flex_flow": null,
       "grid_area": null,
       "grid_auto_columns": null,
       "grid_auto_flow": null,
       "grid_auto_rows": null,
       "grid_column": null,
       "grid_gap": null,
       "grid_row": null,
       "grid_template_areas": null,
       "grid_template_columns": null,
       "grid_template_rows": null,
       "height": null,
       "justify_content": null,
       "justify_items": null,
       "left": null,
       "margin": null,
       "max_height": null,
       "max_width": null,
       "min_height": null,
       "min_width": null,
       "object_fit": null,
       "object_position": null,
       "order": null,
       "overflow": null,
       "overflow_x": null,
       "overflow_y": null,
       "padding": null,
       "right": null,
       "top": null,
       "visibility": null,
       "width": null
      }
     },
     "01d18a8689264e6aabaaf37fef6a8145": {
      "model_module": "@jupyter-widgets/controls",
      "model_module_version": "1.5.0",
      "model_name": "DescriptionStyleModel",
      "state": {
       "_model_module": "@jupyter-widgets/controls",
       "_model_module_version": "1.5.0",
       "_model_name": "DescriptionStyleModel",
       "_view_count": null,
       "_view_module": "@jupyter-widgets/base",
       "_view_module_version": "1.2.0",
       "_view_name": "StyleView",
       "description_width": ""
      }
     },
     "0e8241dd53fa4befa14a8aced7a4733b": {
      "model_module": "@jupyter-widgets/controls",
      "model_module_version": "1.5.0",
      "model_name": "HTMLModel",
      "state": {
       "_dom_classes": [],
       "_model_module": "@jupyter-widgets/controls",
       "_model_module_version": "1.5.0",
       "_model_name": "HTMLModel",
       "_view_count": null,
       "_view_module": "@jupyter-widgets/controls",
       "_view_module_version": "1.5.0",
       "_view_name": "HTMLView",
       "description": "",
       "description_tooltip": null,
       "layout": "IPY_MODEL_c69d8b2ba06b4ba3979827f294ecd82a",
       "placeholder": "​",
       "style": "IPY_MODEL_01d18a8689264e6aabaaf37fef6a8145",
       "value": ""
      }
     },
     "10b185bd6aaa482887ff210986ca8ad8": {
      "model_module": "@jupyter-widgets/controls",
      "model_module_version": "1.5.0",
      "model_name": "ProgressStyleModel",
      "state": {
       "_model_module": "@jupyter-widgets/controls",
       "_model_module_version": "1.5.0",
       "_model_name": "ProgressStyleModel",
       "_view_count": null,
       "_view_module": "@jupyter-widgets/base",
       "_view_module_version": "1.2.0",
       "_view_name": "StyleView",
       "bar_color": null,
       "description_width": ""
      }
     },
     "162f9c74ae0e4607ae4912a7c18ba45d": {
      "model_module": "@jupyter-widgets/base",
      "model_module_version": "1.2.0",
      "model_name": "LayoutModel",
      "state": {
       "_model_module": "@jupyter-widgets/base",
       "_model_module_version": "1.2.0",
       "_model_name": "LayoutModel",
       "_view_count": null,
       "_view_module": "@jupyter-widgets/base",
       "_view_module_version": "1.2.0",
       "_view_name": "LayoutView",
       "align_content": null,
       "align_items": null,
       "align_self": null,
       "border": null,
       "bottom": null,
       "display": null,
       "flex": null,
       "flex_flow": null,
       "grid_area": null,
       "grid_auto_columns": null,
       "grid_auto_flow": null,
       "grid_auto_rows": null,
       "grid_column": null,
       "grid_gap": null,
       "grid_row": null,
       "grid_template_areas": null,
       "grid_template_columns": null,
       "grid_template_rows": null,
       "height": null,
       "justify_content": null,
       "justify_items": null,
       "left": null,
       "margin": null,
       "max_height": null,
       "max_width": null,
       "min_height": null,
       "min_width": null,
       "object_fit": null,
       "object_position": null,
       "order": null,
       "overflow": null,
       "overflow_x": null,
       "overflow_y": null,
       "padding": null,
       "right": null,
       "top": null,
       "visibility": null,
       "width": "20px"
      }
     },
     "1704039b99c0406c9621c9c126f63648": {
      "model_module": "@jupyter-widgets/controls",
      "model_module_version": "1.5.0",
      "model_name": "HBoxModel",
      "state": {
       "_dom_classes": [],
       "_model_module": "@jupyter-widgets/controls",
       "_model_module_version": "1.5.0",
       "_model_name": "HBoxModel",
       "_view_count": null,
       "_view_module": "@jupyter-widgets/controls",
       "_view_module_version": "1.5.0",
       "_view_name": "HBoxView",
       "box_style": "",
       "children": [
        "IPY_MODEL_0e8241dd53fa4befa14a8aced7a4733b",
        "IPY_MODEL_e188ec94c6214e66945020e0eaf71dd9",
        "IPY_MODEL_5016afeb669649d8ad73a03aa4097d2f"
       ],
       "layout": "IPY_MODEL_8f48a85a1df34971b5c8e0367e36448b"
      }
     },
     "213b2090f57e4fd9a01d6c9c1783f475": {
      "model_module": "@jupyter-widgets/controls",
      "model_module_version": "1.5.0",
      "model_name": "ProgressStyleModel",
      "state": {
       "_model_module": "@jupyter-widgets/controls",
       "_model_module_version": "1.5.0",
       "_model_name": "ProgressStyleModel",
       "_view_count": null,
       "_view_module": "@jupyter-widgets/base",
       "_view_module_version": "1.2.0",
       "_view_name": "StyleView",
       "bar_color": null,
       "description_width": ""
      }
     },
     "30a04e85b5a9490a91780fb6db98aa31": {
      "model_module": "@jupyter-widgets/base",
      "model_module_version": "1.2.0",
      "model_name": "LayoutModel",
      "state": {
       "_model_module": "@jupyter-widgets/base",
       "_model_module_version": "1.2.0",
       "_model_name": "LayoutModel",
       "_view_count": null,
       "_view_module": "@jupyter-widgets/base",
       "_view_module_version": "1.2.0",
       "_view_name": "LayoutView",
       "align_content": null,
       "align_items": null,
       "align_self": null,
       "border": null,
       "bottom": null,
       "display": null,
       "flex": null,
       "flex_flow": null,
       "grid_area": null,
       "grid_auto_columns": null,
       "grid_auto_flow": null,
       "grid_auto_rows": null,
       "grid_column": null,
       "grid_gap": null,
       "grid_row": null,
       "grid_template_areas": null,
       "grid_template_columns": null,
       "grid_template_rows": null,
       "height": null,
       "justify_content": null,
       "justify_items": null,
       "left": null,
       "margin": null,
       "max_height": null,
       "max_width": null,
       "min_height": null,
       "min_width": null,
       "object_fit": null,
       "object_position": null,
       "order": null,
       "overflow": null,
       "overflow_x": null,
       "overflow_y": null,
       "padding": null,
       "right": null,
       "top": null,
       "visibility": null,
       "width": null
      }
     },
     "32829f990a8c4d6987b4ef9afbdba6b8": {
      "model_module": "@jupyter-widgets/controls",
      "model_module_version": "1.5.0",
      "model_name": "DescriptionStyleModel",
      "state": {
       "_model_module": "@jupyter-widgets/controls",
       "_model_module_version": "1.5.0",
       "_model_name": "DescriptionStyleModel",
       "_view_count": null,
       "_view_module": "@jupyter-widgets/base",
       "_view_module_version": "1.2.0",
       "_view_name": "StyleView",
       "description_width": ""
      }
     },
     "3920b98f1bcd453187f348b73db1c21b": {
      "model_module": "@jupyter-widgets/base",
      "model_module_version": "1.2.0",
      "model_name": "LayoutModel",
      "state": {
       "_model_module": "@jupyter-widgets/base",
       "_model_module_version": "1.2.0",
       "_model_name": "LayoutModel",
       "_view_count": null,
       "_view_module": "@jupyter-widgets/base",
       "_view_module_version": "1.2.0",
       "_view_name": "LayoutView",
       "align_content": null,
       "align_items": null,
       "align_self": null,
       "border": null,
       "bottom": null,
       "display": null,
       "flex": null,
       "flex_flow": null,
       "grid_area": null,
       "grid_auto_columns": null,
       "grid_auto_flow": null,
       "grid_auto_rows": null,
       "grid_column": null,
       "grid_gap": null,
       "grid_row": null,
       "grid_template_areas": null,
       "grid_template_columns": null,
       "grid_template_rows": null,
       "height": null,
       "justify_content": null,
       "justify_items": null,
       "left": null,
       "margin": null,
       "max_height": null,
       "max_width": null,
       "min_height": null,
       "min_width": null,
       "object_fit": null,
       "object_position": null,
       "order": null,
       "overflow": null,
       "overflow_x": null,
       "overflow_y": null,
       "padding": null,
       "right": null,
       "top": null,
       "visibility": null,
       "width": null
      }
     },
     "426f7fa7cb8b40c29ea06673cb79c708": {
      "model_module": "@jupyter-widgets/base",
      "model_module_version": "1.2.0",
      "model_name": "LayoutModel",
      "state": {
       "_model_module": "@jupyter-widgets/base",
       "_model_module_version": "1.2.0",
       "_model_name": "LayoutModel",
       "_view_count": null,
       "_view_module": "@jupyter-widgets/base",
       "_view_module_version": "1.2.0",
       "_view_name": "LayoutView",
       "align_content": null,
       "align_items": null,
       "align_self": null,
       "border": null,
       "bottom": null,
       "display": null,
       "flex": null,
       "flex_flow": null,
       "grid_area": null,
       "grid_auto_columns": null,
       "grid_auto_flow": null,
       "grid_auto_rows": null,
       "grid_column": null,
       "grid_gap": null,
       "grid_row": null,
       "grid_template_areas": null,
       "grid_template_columns": null,
       "grid_template_rows": null,
       "height": null,
       "justify_content": null,
       "justify_items": null,
       "left": null,
       "margin": null,
       "max_height": null,
       "max_width": null,
       "min_height": null,
       "min_width": null,
       "object_fit": null,
       "object_position": null,
       "order": null,
       "overflow": null,
       "overflow_x": null,
       "overflow_y": null,
       "padding": null,
       "right": null,
       "top": null,
       "visibility": null,
       "width": null
      }
     },
     "48c5ef1554a04c2996b4c0ae59907ac6": {
      "model_module": "@jupyter-widgets/controls",
      "model_module_version": "1.5.0",
      "model_name": "DescriptionStyleModel",
      "state": {
       "_model_module": "@jupyter-widgets/controls",
       "_model_module_version": "1.5.0",
       "_model_name": "DescriptionStyleModel",
       "_view_count": null,
       "_view_module": "@jupyter-widgets/base",
       "_view_module_version": "1.2.0",
       "_view_name": "StyleView",
       "description_width": ""
      }
     },
     "4ccee5add3a04a6db1221635423ac56c": {
      "model_module": "@jupyter-widgets/controls",
      "model_module_version": "1.5.0",
      "model_name": "HTMLModel",
      "state": {
       "_dom_classes": [],
       "_model_module": "@jupyter-widgets/controls",
       "_model_module_version": "1.5.0",
       "_model_name": "HTMLModel",
       "_view_count": null,
       "_view_module": "@jupyter-widgets/controls",
       "_view_module_version": "1.5.0",
       "_view_name": "HTMLView",
       "description": "",
       "description_tooltip": null,
       "layout": "IPY_MODEL_30a04e85b5a9490a91780fb6db98aa31",
       "placeholder": "​",
       "style": "IPY_MODEL_7007c0ca9c264ddb85e3156dea0bd5cd",
       "value": ""
      }
     },
     "4dc8a2abf0464bcbb741a860a465f836": {
      "model_module": "@jupyter-widgets/base",
      "model_module_version": "1.2.0",
      "model_name": "LayoutModel",
      "state": {
       "_model_module": "@jupyter-widgets/base",
       "_model_module_version": "1.2.0",
       "_model_name": "LayoutModel",
       "_view_count": null,
       "_view_module": "@jupyter-widgets/base",
       "_view_module_version": "1.2.0",
       "_view_name": "LayoutView",
       "align_content": null,
       "align_items": null,
       "align_self": null,
       "border": null,
       "bottom": null,
       "display": null,
       "flex": null,
       "flex_flow": null,
       "grid_area": null,
       "grid_auto_columns": null,
       "grid_auto_flow": null,
       "grid_auto_rows": null,
       "grid_column": null,
       "grid_gap": null,
       "grid_row": null,
       "grid_template_areas": null,
       "grid_template_columns": null,
       "grid_template_rows": null,
       "height": null,
       "justify_content": null,
       "justify_items": null,
       "left": null,
       "margin": null,
       "max_height": null,
       "max_width": null,
       "min_height": null,
       "min_width": null,
       "object_fit": null,
       "object_position": null,
       "order": null,
       "overflow": null,
       "overflow_x": null,
       "overflow_y": null,
       "padding": null,
       "right": null,
       "top": null,
       "visibility": null,
       "width": null
      }
     },
     "5016afeb669649d8ad73a03aa4097d2f": {
      "model_module": "@jupyter-widgets/controls",
      "model_module_version": "1.5.0",
      "model_name": "HTMLModel",
      "state": {
       "_dom_classes": [],
       "_model_module": "@jupyter-widgets/controls",
       "_model_module_version": "1.5.0",
       "_model_name": "HTMLModel",
       "_view_count": null,
       "_view_module": "@jupyter-widgets/controls",
       "_view_module_version": "1.5.0",
       "_view_name": "HTMLView",
       "description": "",
       "description_tooltip": null,
       "layout": "IPY_MODEL_ea8f6877da1b40d49795202b24247e47",
       "placeholder": "​",
       "style": "IPY_MODEL_a486e35857ec4a3bb0c89fad4ca5772f",
       "value": " 79/? [00:02&lt;00:00, 35.90it/s]"
      }
     },
     "51d396543ef04c8d94cc2529cbfad1b6": {
      "model_module": "@jupyter-widgets/controls",
      "model_module_version": "1.5.0",
      "model_name": "HTMLModel",
      "state": {
       "_dom_classes": [],
       "_model_module": "@jupyter-widgets/controls",
       "_model_module_version": "1.5.0",
       "_model_name": "HTMLModel",
       "_view_count": null,
       "_view_module": "@jupyter-widgets/controls",
       "_view_module_version": "1.5.0",
       "_view_name": "HTMLView",
       "description": "",
       "description_tooltip": null,
       "layout": "IPY_MODEL_426f7fa7cb8b40c29ea06673cb79c708",
       "placeholder": "​",
       "style": "IPY_MODEL_9ca4f470dfa045018bd3d02b96da16b4",
       "value": "100%"
      }
     },
     "5e3fa0c17a4240cb9f2418bd6f18ea5f": {
      "model_module": "@jupyter-widgets/base",
      "model_module_version": "1.2.0",
      "model_name": "LayoutModel",
      "state": {
       "_model_module": "@jupyter-widgets/base",
       "_model_module_version": "1.2.0",
       "_model_name": "LayoutModel",
       "_view_count": null,
       "_view_module": "@jupyter-widgets/base",
       "_view_module_version": "1.2.0",
       "_view_name": "LayoutView",
       "align_content": null,
       "align_items": null,
       "align_self": null,
       "border": null,
       "bottom": null,
       "display": null,
       "flex": null,
       "flex_flow": null,
       "grid_area": null,
       "grid_auto_columns": null,
       "grid_auto_flow": null,
       "grid_auto_rows": null,
       "grid_column": null,
       "grid_gap": null,
       "grid_row": null,
       "grid_template_areas": null,
       "grid_template_columns": null,
       "grid_template_rows": null,
       "height": null,
       "justify_content": null,
       "justify_items": null,
       "left": null,
       "margin": null,
       "max_height": null,
       "max_width": null,
       "min_height": null,
       "min_width": null,
       "object_fit": null,
       "object_position": null,
       "order": null,
       "overflow": null,
       "overflow_x": null,
       "overflow_y": null,
       "padding": null,
       "right": null,
       "top": null,
       "visibility": null,
       "width": null
      }
     },
     "60170836225e413797ac90931487f9b5": {
      "model_module": "@jupyter-widgets/controls",
      "model_module_version": "1.5.0",
      "model_name": "HBoxModel",
      "state": {
       "_dom_classes": [],
       "_model_module": "@jupyter-widgets/controls",
       "_model_module_version": "1.5.0",
       "_model_name": "HBoxModel",
       "_view_count": null,
       "_view_module": "@jupyter-widgets/controls",
       "_view_module_version": "1.5.0",
       "_view_name": "HBoxView",
       "box_style": "",
       "children": [
        "IPY_MODEL_51d396543ef04c8d94cc2529cbfad1b6",
        "IPY_MODEL_cf8e49bd6e2a4b238e4d39708b754191",
        "IPY_MODEL_f95833969886472b9574322c227b3a29"
       ],
       "layout": "IPY_MODEL_eac8dae273594510be131708b1c9ef27"
      }
     },
     "6f91ed16f4054b86a8abd53daa422b99": {
      "model_module": "@jupyter-widgets/controls",
      "model_module_version": "1.5.0",
      "model_name": "HBoxModel",
      "state": {
       "_dom_classes": [],
       "_model_module": "@jupyter-widgets/controls",
       "_model_module_version": "1.5.0",
       "_model_name": "HBoxModel",
       "_view_count": null,
       "_view_module": "@jupyter-widgets/controls",
       "_view_module_version": "1.5.0",
       "_view_name": "HBoxView",
       "box_style": "",
       "children": [
        "IPY_MODEL_7acfc1ef5f8348358601a314f9918a66",
        "IPY_MODEL_6ff07610ce3242888ca0cb41cd4c5243",
        "IPY_MODEL_d894124115574b42823cc696ba12efbf"
       ],
       "layout": "IPY_MODEL_01bb66abd4854d4f994dfec71429de3c"
      }
     },
     "6ff07610ce3242888ca0cb41cd4c5243": {
      "model_module": "@jupyter-widgets/controls",
      "model_module_version": "1.5.0",
      "model_name": "FloatProgressModel",
      "state": {
       "_dom_classes": [],
       "_model_module": "@jupyter-widgets/controls",
       "_model_module_version": "1.5.0",
       "_model_name": "FloatProgressModel",
       "_view_count": null,
       "_view_module": "@jupyter-widgets/controls",
       "_view_module_version": "1.5.0",
       "_view_name": "ProgressView",
       "bar_style": "success",
       "description": "",
       "description_tooltip": null,
       "layout": "IPY_MODEL_fe78a75b058b477d80c558e4c56cceb2",
       "max": 50,
       "min": 0,
       "orientation": "horizontal",
       "style": "IPY_MODEL_213b2090f57e4fd9a01d6c9c1783f475",
       "value": 50
      }
     },
     "7007c0ca9c264ddb85e3156dea0bd5cd": {
      "model_module": "@jupyter-widgets/controls",
      "model_module_version": "1.5.0",
      "model_name": "DescriptionStyleModel",
      "state": {
       "_model_module": "@jupyter-widgets/controls",
       "_model_module_version": "1.5.0",
       "_model_name": "DescriptionStyleModel",
       "_view_count": null,
       "_view_module": "@jupyter-widgets/base",
       "_view_module_version": "1.2.0",
       "_view_name": "StyleView",
       "description_width": ""
      }
     },
     "7acfc1ef5f8348358601a314f9918a66": {
      "model_module": "@jupyter-widgets/controls",
      "model_module_version": "1.5.0",
      "model_name": "HTMLModel",
      "state": {
       "_dom_classes": [],
       "_model_module": "@jupyter-widgets/controls",
       "_model_module_version": "1.5.0",
       "_model_name": "HTMLModel",
       "_view_count": null,
       "_view_module": "@jupyter-widgets/controls",
       "_view_module_version": "1.5.0",
       "_view_name": "HTMLView",
       "description": "",
       "description_tooltip": null,
       "layout": "IPY_MODEL_4dc8a2abf0464bcbb741a860a465f836",
       "placeholder": "​",
       "style": "IPY_MODEL_32829f990a8c4d6987b4ef9afbdba6b8",
       "value": "100%"
      }
     },
     "7ade9d0510764110ad61ed472c65e36d": {
      "model_module": "@jupyter-widgets/controls",
      "model_module_version": "1.5.0",
      "model_name": "HTMLModel",
      "state": {
       "_dom_classes": [],
       "_model_module": "@jupyter-widgets/controls",
       "_model_module_version": "1.5.0",
       "_model_name": "HTMLModel",
       "_view_count": null,
       "_view_module": "@jupyter-widgets/controls",
       "_view_module_version": "1.5.0",
       "_view_name": "HTMLView",
       "description": "",
       "description_tooltip": null,
       "layout": "IPY_MODEL_d41713f5e7744072a192b3eba4e10dd5",
       "placeholder": "​",
       "style": "IPY_MODEL_48c5ef1554a04c2996b4c0ae59907ac6",
       "value": " 79/? [00:02&lt;00:00, 37.85it/s]"
      }
     },
     "80adb3ffb2274e969cb8bb4b361572d5": {
      "model_module": "@jupyter-widgets/base",
      "model_module_version": "1.2.0",
      "model_name": "LayoutModel",
      "state": {
       "_model_module": "@jupyter-widgets/base",
       "_model_module_version": "1.2.0",
       "_model_name": "LayoutModel",
       "_view_count": null,
       "_view_module": "@jupyter-widgets/base",
       "_view_module_version": "1.2.0",
       "_view_name": "LayoutView",
       "align_content": null,
       "align_items": null,
       "align_self": null,
       "border": null,
       "bottom": null,
       "display": null,
       "flex": null,
       "flex_flow": null,
       "grid_area": null,
       "grid_auto_columns": null,
       "grid_auto_flow": null,
       "grid_auto_rows": null,
       "grid_column": null,
       "grid_gap": null,
       "grid_row": null,
       "grid_template_areas": null,
       "grid_template_columns": null,
       "grid_template_rows": null,
       "height": null,
       "justify_content": null,
       "justify_items": null,
       "left": null,
       "margin": null,
       "max_height": null,
       "max_width": null,
       "min_height": null,
       "min_width": null,
       "object_fit": null,
       "object_position": null,
       "order": null,
       "overflow": null,
       "overflow_x": null,
       "overflow_y": null,
       "padding": null,
       "right": null,
       "top": null,
       "visibility": null,
       "width": null
      }
     },
     "8f48a85a1df34971b5c8e0367e36448b": {
      "model_module": "@jupyter-widgets/base",
      "model_module_version": "1.2.0",
      "model_name": "LayoutModel",
      "state": {
       "_model_module": "@jupyter-widgets/base",
       "_model_module_version": "1.2.0",
       "_model_name": "LayoutModel",
       "_view_count": null,
       "_view_module": "@jupyter-widgets/base",
       "_view_module_version": "1.2.0",
       "_view_name": "LayoutView",
       "align_content": null,
       "align_items": null,
       "align_self": null,
       "border": null,
       "bottom": null,
       "display": null,
       "flex": null,
       "flex_flow": null,
       "grid_area": null,
       "grid_auto_columns": null,
       "grid_auto_flow": null,
       "grid_auto_rows": null,
       "grid_column": null,
       "grid_gap": null,
       "grid_row": null,
       "grid_template_areas": null,
       "grid_template_columns": null,
       "grid_template_rows": null,
       "height": null,
       "justify_content": null,
       "justify_items": null,
       "left": null,
       "margin": null,
       "max_height": null,
       "max_width": null,
       "min_height": null,
       "min_width": null,
       "object_fit": null,
       "object_position": null,
       "order": null,
       "overflow": null,
       "overflow_x": null,
       "overflow_y": null,
       "padding": null,
       "right": null,
       "top": null,
       "visibility": null,
       "width": null
      }
     },
     "9ca4f470dfa045018bd3d02b96da16b4": {
      "model_module": "@jupyter-widgets/controls",
      "model_module_version": "1.5.0",
      "model_name": "DescriptionStyleModel",
      "state": {
       "_model_module": "@jupyter-widgets/controls",
       "_model_module_version": "1.5.0",
       "_model_name": "DescriptionStyleModel",
       "_view_count": null,
       "_view_module": "@jupyter-widgets/base",
       "_view_module_version": "1.2.0",
       "_view_name": "StyleView",
       "description_width": ""
      }
     },
     "9fcba2ad948041a1ae9b687e2cb44348": {
      "model_module": "@jupyter-widgets/base",
      "model_module_version": "1.2.0",
      "model_name": "LayoutModel",
      "state": {
       "_model_module": "@jupyter-widgets/base",
       "_model_module_version": "1.2.0",
       "_model_name": "LayoutModel",
       "_view_count": null,
       "_view_module": "@jupyter-widgets/base",
       "_view_module_version": "1.2.0",
       "_view_name": "LayoutView",
       "align_content": null,
       "align_items": null,
       "align_self": null,
       "border": null,
       "bottom": null,
       "display": null,
       "flex": null,
       "flex_flow": null,
       "grid_area": null,
       "grid_auto_columns": null,
       "grid_auto_flow": null,
       "grid_auto_rows": null,
       "grid_column": null,
       "grid_gap": null,
       "grid_row": null,
       "grid_template_areas": null,
       "grid_template_columns": null,
       "grid_template_rows": null,
       "height": null,
       "justify_content": null,
       "justify_items": null,
       "left": null,
       "margin": null,
       "max_height": null,
       "max_width": null,
       "min_height": null,
       "min_width": null,
       "object_fit": null,
       "object_position": null,
       "order": null,
       "overflow": null,
       "overflow_x": null,
       "overflow_y": null,
       "padding": null,
       "right": null,
       "top": null,
       "visibility": null,
       "width": "20px"
      }
     },
     "a486e35857ec4a3bb0c89fad4ca5772f": {
      "model_module": "@jupyter-widgets/controls",
      "model_module_version": "1.5.0",
      "model_name": "DescriptionStyleModel",
      "state": {
       "_model_module": "@jupyter-widgets/controls",
       "_model_module_version": "1.5.0",
       "_model_name": "DescriptionStyleModel",
       "_view_count": null,
       "_view_module": "@jupyter-widgets/base",
       "_view_module_version": "1.2.0",
       "_view_name": "StyleView",
       "description_width": ""
      }
     },
     "a5fc2245db2141058130f3be2feddfe6": {
      "model_module": "@jupyter-widgets/controls",
      "model_module_version": "1.5.0",
      "model_name": "DescriptionStyleModel",
      "state": {
       "_model_module": "@jupyter-widgets/controls",
       "_model_module_version": "1.5.0",
       "_model_name": "DescriptionStyleModel",
       "_view_count": null,
       "_view_module": "@jupyter-widgets/base",
       "_view_module_version": "1.2.0",
       "_view_name": "StyleView",
       "description_width": ""
      }
     },
     "b267ae8fd8be44e98194e9892219f3d4": {
      "model_module": "@jupyter-widgets/base",
      "model_module_version": "1.2.0",
      "model_name": "LayoutModel",
      "state": {
       "_model_module": "@jupyter-widgets/base",
       "_model_module_version": "1.2.0",
       "_model_name": "LayoutModel",
       "_view_count": null,
       "_view_module": "@jupyter-widgets/base",
       "_view_module_version": "1.2.0",
       "_view_name": "LayoutView",
       "align_content": null,
       "align_items": null,
       "align_self": null,
       "border": null,
       "bottom": null,
       "display": null,
       "flex": null,
       "flex_flow": null,
       "grid_area": null,
       "grid_auto_columns": null,
       "grid_auto_flow": null,
       "grid_auto_rows": null,
       "grid_column": null,
       "grid_gap": null,
       "grid_row": null,
       "grid_template_areas": null,
       "grid_template_columns": null,
       "grid_template_rows": null,
       "height": null,
       "justify_content": null,
       "justify_items": null,
       "left": null,
       "margin": null,
       "max_height": null,
       "max_width": null,
       "min_height": null,
       "min_width": null,
       "object_fit": null,
       "object_position": null,
       "order": null,
       "overflow": null,
       "overflow_x": null,
       "overflow_y": null,
       "padding": null,
       "right": null,
       "top": null,
       "visibility": null,
       "width": null
      }
     },
     "b5dd9622c31a4a1a942cab97a4f39a0e": {
      "model_module": "@jupyter-widgets/controls",
      "model_module_version": "1.5.0",
      "model_name": "ProgressStyleModel",
      "state": {
       "_model_module": "@jupyter-widgets/controls",
       "_model_module_version": "1.5.0",
       "_model_name": "ProgressStyleModel",
       "_view_count": null,
       "_view_module": "@jupyter-widgets/base",
       "_view_module_version": "1.2.0",
       "_view_name": "StyleView",
       "bar_color": null,
       "description_width": ""
      }
     },
     "b72932f4ddad4715aac2a6c42d71d294": {
      "model_module": "@jupyter-widgets/controls",
      "model_module_version": "1.5.0",
      "model_name": "HBoxModel",
      "state": {
       "_dom_classes": [],
       "_model_module": "@jupyter-widgets/controls",
       "_model_module_version": "1.5.0",
       "_model_name": "HBoxModel",
       "_view_count": null,
       "_view_module": "@jupyter-widgets/controls",
       "_view_module_version": "1.5.0",
       "_view_name": "HBoxView",
       "box_style": "",
       "children": [
        "IPY_MODEL_4ccee5add3a04a6db1221635423ac56c",
        "IPY_MODEL_daf7c9648b34417f90a892f366ff50fb",
        "IPY_MODEL_7ade9d0510764110ad61ed472c65e36d"
       ],
       "layout": "IPY_MODEL_3920b98f1bcd453187f348b73db1c21b"
      }
     },
     "c69d8b2ba06b4ba3979827f294ecd82a": {
      "model_module": "@jupyter-widgets/base",
      "model_module_version": "1.2.0",
      "model_name": "LayoutModel",
      "state": {
       "_model_module": "@jupyter-widgets/base",
       "_model_module_version": "1.2.0",
       "_model_name": "LayoutModel",
       "_view_count": null,
       "_view_module": "@jupyter-widgets/base",
       "_view_module_version": "1.2.0",
       "_view_name": "LayoutView",
       "align_content": null,
       "align_items": null,
       "align_self": null,
       "border": null,
       "bottom": null,
       "display": null,
       "flex": null,
       "flex_flow": null,
       "grid_area": null,
       "grid_auto_columns": null,
       "grid_auto_flow": null,
       "grid_auto_rows": null,
       "grid_column": null,
       "grid_gap": null,
       "grid_row": null,
       "grid_template_areas": null,
       "grid_template_columns": null,
       "grid_template_rows": null,
       "height": null,
       "justify_content": null,
       "justify_items": null,
       "left": null,
       "margin": null,
       "max_height": null,
       "max_width": null,
       "min_height": null,
       "min_width": null,
       "object_fit": null,
       "object_position": null,
       "order": null,
       "overflow": null,
       "overflow_x": null,
       "overflow_y": null,
       "padding": null,
       "right": null,
       "top": null,
       "visibility": null,
       "width": null
      }
     },
     "c6db1682e38e47449c696f485fee9ab9": {
      "model_module": "@jupyter-widgets/controls",
      "model_module_version": "1.5.0",
      "model_name": "DescriptionStyleModel",
      "state": {
       "_model_module": "@jupyter-widgets/controls",
       "_model_module_version": "1.5.0",
       "_model_name": "DescriptionStyleModel",
       "_view_count": null,
       "_view_module": "@jupyter-widgets/base",
       "_view_module_version": "1.2.0",
       "_view_name": "StyleView",
       "description_width": ""
      }
     },
     "cf8e49bd6e2a4b238e4d39708b754191": {
      "model_module": "@jupyter-widgets/controls",
      "model_module_version": "1.5.0",
      "model_name": "FloatProgressModel",
      "state": {
       "_dom_classes": [],
       "_model_module": "@jupyter-widgets/controls",
       "_model_module_version": "1.5.0",
       "_model_name": "FloatProgressModel",
       "_view_count": null,
       "_view_module": "@jupyter-widgets/controls",
       "_view_module_version": "1.5.0",
       "_view_name": "ProgressView",
       "bar_style": "success",
       "description": "",
       "description_tooltip": null,
       "layout": "IPY_MODEL_80adb3ffb2274e969cb8bb4b361572d5",
       "max": 50,
       "min": 0,
       "orientation": "horizontal",
       "style": "IPY_MODEL_10b185bd6aaa482887ff210986ca8ad8",
       "value": 50
      }
     },
     "d41713f5e7744072a192b3eba4e10dd5": {
      "model_module": "@jupyter-widgets/base",
      "model_module_version": "1.2.0",
      "model_name": "LayoutModel",
      "state": {
       "_model_module": "@jupyter-widgets/base",
       "_model_module_version": "1.2.0",
       "_model_name": "LayoutModel",
       "_view_count": null,
       "_view_module": "@jupyter-widgets/base",
       "_view_module_version": "1.2.0",
       "_view_name": "LayoutView",
       "align_content": null,
       "align_items": null,
       "align_self": null,
       "border": null,
       "bottom": null,
       "display": null,
       "flex": null,
       "flex_flow": null,
       "grid_area": null,
       "grid_auto_columns": null,
       "grid_auto_flow": null,
       "grid_auto_rows": null,
       "grid_column": null,
       "grid_gap": null,
       "grid_row": null,
       "grid_template_areas": null,
       "grid_template_columns": null,
       "grid_template_rows": null,
       "height": null,
       "justify_content": null,
       "justify_items": null,
       "left": null,
       "margin": null,
       "max_height": null,
       "max_width": null,
       "min_height": null,
       "min_width": null,
       "object_fit": null,
       "object_position": null,
       "order": null,
       "overflow": null,
       "overflow_x": null,
       "overflow_y": null,
       "padding": null,
       "right": null,
       "top": null,
       "visibility": null,
       "width": null
      }
     },
     "d5f0821eecc344fc935a05e39972def1": {
      "model_module": "@jupyter-widgets/controls",
      "model_module_version": "1.5.0",
      "model_name": "ProgressStyleModel",
      "state": {
       "_model_module": "@jupyter-widgets/controls",
       "_model_module_version": "1.5.0",
       "_model_name": "ProgressStyleModel",
       "_view_count": null,
       "_view_module": "@jupyter-widgets/base",
       "_view_module_version": "1.2.0",
       "_view_name": "StyleView",
       "bar_color": null,
       "description_width": ""
      }
     },
     "d894124115574b42823cc696ba12efbf": {
      "model_module": "@jupyter-widgets/controls",
      "model_module_version": "1.5.0",
      "model_name": "HTMLModel",
      "state": {
       "_dom_classes": [],
       "_model_module": "@jupyter-widgets/controls",
       "_model_module_version": "1.5.0",
       "_model_name": "HTMLModel",
       "_view_count": null,
       "_view_module": "@jupyter-widgets/controls",
       "_view_module_version": "1.5.0",
       "_view_name": "HTMLView",
       "description": "",
       "description_tooltip": null,
       "layout": "IPY_MODEL_5e3fa0c17a4240cb9f2418bd6f18ea5f",
       "placeholder": "​",
       "style": "IPY_MODEL_c6db1682e38e47449c696f485fee9ab9",
       "value": " 50/50 [19:49&lt;00:00, 23.55s/it]"
      }
     },
     "daf7c9648b34417f90a892f366ff50fb": {
      "model_module": "@jupyter-widgets/controls",
      "model_module_version": "1.5.0",
      "model_name": "FloatProgressModel",
      "state": {
       "_dom_classes": [],
       "_model_module": "@jupyter-widgets/controls",
       "_model_module_version": "1.5.0",
       "_model_name": "FloatProgressModel",
       "_view_count": null,
       "_view_module": "@jupyter-widgets/controls",
       "_view_module_version": "1.5.0",
       "_view_name": "ProgressView",
       "bar_style": "success",
       "description": "",
       "description_tooltip": null,
       "layout": "IPY_MODEL_9fcba2ad948041a1ae9b687e2cb44348",
       "max": 1,
       "min": 0,
       "orientation": "horizontal",
       "style": "IPY_MODEL_b5dd9622c31a4a1a942cab97a4f39a0e",
       "value": 1
      }
     },
     "e188ec94c6214e66945020e0eaf71dd9": {
      "model_module": "@jupyter-widgets/controls",
      "model_module_version": "1.5.0",
      "model_name": "FloatProgressModel",
      "state": {
       "_dom_classes": [],
       "_model_module": "@jupyter-widgets/controls",
       "_model_module_version": "1.5.0",
       "_model_name": "FloatProgressModel",
       "_view_count": null,
       "_view_module": "@jupyter-widgets/controls",
       "_view_module_version": "1.5.0",
       "_view_name": "ProgressView",
       "bar_style": "success",
       "description": "",
       "description_tooltip": null,
       "layout": "IPY_MODEL_162f9c74ae0e4607ae4912a7c18ba45d",
       "max": 1,
       "min": 0,
       "orientation": "horizontal",
       "style": "IPY_MODEL_d5f0821eecc344fc935a05e39972def1",
       "value": 1
      }
     },
     "ea8f6877da1b40d49795202b24247e47": {
      "model_module": "@jupyter-widgets/base",
      "model_module_version": "1.2.0",
      "model_name": "LayoutModel",
      "state": {
       "_model_module": "@jupyter-widgets/base",
       "_model_module_version": "1.2.0",
       "_model_name": "LayoutModel",
       "_view_count": null,
       "_view_module": "@jupyter-widgets/base",
       "_view_module_version": "1.2.0",
       "_view_name": "LayoutView",
       "align_content": null,
       "align_items": null,
       "align_self": null,
       "border": null,
       "bottom": null,
       "display": null,
       "flex": null,
       "flex_flow": null,
       "grid_area": null,
       "grid_auto_columns": null,
       "grid_auto_flow": null,
       "grid_auto_rows": null,
       "grid_column": null,
       "grid_gap": null,
       "grid_row": null,
       "grid_template_areas": null,
       "grid_template_columns": null,
       "grid_template_rows": null,
       "height": null,
       "justify_content": null,
       "justify_items": null,
       "left": null,
       "margin": null,
       "max_height": null,
       "max_width": null,
       "min_height": null,
       "min_width": null,
       "object_fit": null,
       "object_position": null,
       "order": null,
       "overflow": null,
       "overflow_x": null,
       "overflow_y": null,
       "padding": null,
       "right": null,
       "top": null,
       "visibility": null,
       "width": null
      }
     },
     "eac8dae273594510be131708b1c9ef27": {
      "model_module": "@jupyter-widgets/base",
      "model_module_version": "1.2.0",
      "model_name": "LayoutModel",
      "state": {
       "_model_module": "@jupyter-widgets/base",
       "_model_module_version": "1.2.0",
       "_model_name": "LayoutModel",
       "_view_count": null,
       "_view_module": "@jupyter-widgets/base",
       "_view_module_version": "1.2.0",
       "_view_name": "LayoutView",
       "align_content": null,
       "align_items": null,
       "align_self": null,
       "border": null,
       "bottom": null,
       "display": null,
       "flex": null,
       "flex_flow": null,
       "grid_area": null,
       "grid_auto_columns": null,
       "grid_auto_flow": null,
       "grid_auto_rows": null,
       "grid_column": null,
       "grid_gap": null,
       "grid_row": null,
       "grid_template_areas": null,
       "grid_template_columns": null,
       "grid_template_rows": null,
       "height": null,
       "justify_content": null,
       "justify_items": null,
       "left": null,
       "margin": null,
       "max_height": null,
       "max_width": null,
       "min_height": null,
       "min_width": null,
       "object_fit": null,
       "object_position": null,
       "order": null,
       "overflow": null,
       "overflow_x": null,
       "overflow_y": null,
       "padding": null,
       "right": null,
       "top": null,
       "visibility": null,
       "width": null
      }
     },
     "f95833969886472b9574322c227b3a29": {
      "model_module": "@jupyter-widgets/controls",
      "model_module_version": "1.5.0",
      "model_name": "HTMLModel",
      "state": {
       "_dom_classes": [],
       "_model_module": "@jupyter-widgets/controls",
       "_model_module_version": "1.5.0",
       "_model_name": "HTMLModel",
       "_view_count": null,
       "_view_module": "@jupyter-widgets/controls",
       "_view_module_version": "1.5.0",
       "_view_name": "HTMLView",
       "description": "",
       "description_tooltip": null,
       "layout": "IPY_MODEL_b267ae8fd8be44e98194e9892219f3d4",
       "placeholder": "​",
       "style": "IPY_MODEL_a5fc2245db2141058130f3be2feddfe6",
       "value": " 50/50 [20:29&lt;00:00, 24.60s/it]"
      }
     },
     "fe78a75b058b477d80c558e4c56cceb2": {
      "model_module": "@jupyter-widgets/base",
      "model_module_version": "1.2.0",
      "model_name": "LayoutModel",
      "state": {
       "_model_module": "@jupyter-widgets/base",
       "_model_module_version": "1.2.0",
       "_model_name": "LayoutModel",
       "_view_count": null,
       "_view_module": "@jupyter-widgets/base",
       "_view_module_version": "1.2.0",
       "_view_name": "LayoutView",
       "align_content": null,
       "align_items": null,
       "align_self": null,
       "border": null,
       "bottom": null,
       "display": null,
       "flex": null,
       "flex_flow": null,
       "grid_area": null,
       "grid_auto_columns": null,
       "grid_auto_flow": null,
       "grid_auto_rows": null,
       "grid_column": null,
       "grid_gap": null,
       "grid_row": null,
       "grid_template_areas": null,
       "grid_template_columns": null,
       "grid_template_rows": null,
       "height": null,
       "justify_content": null,
       "justify_items": null,
       "left": null,
       "margin": null,
       "max_height": null,
       "max_width": null,
       "min_height": null,
       "min_width": null,
       "object_fit": null,
       "object_position": null,
       "order": null,
       "overflow": null,
       "overflow_x": null,
       "overflow_y": null,
       "padding": null,
       "right": null,
       "top": null,
       "visibility": null,
       "width": null
      }
     }
    },
    "version_major": 2,
    "version_minor": 0
   }
  }
 },
 "nbformat": 4,
 "nbformat_minor": 5
}
